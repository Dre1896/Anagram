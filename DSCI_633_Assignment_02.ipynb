{
  "nbformat": 4,
  "nbformat_minor": 0,
  "metadata": {
    "colab": {
      "name": "DSCI 633 - Assignment 02.ipynb",
      "provenance": [],
      "collapsed_sections": [],
      "include_colab_link": true
    },
    "kernelspec": {
      "name": "python3",
      "display_name": "Python 3"
    },
    "language_info": {
      "name": "python"
    }
  },
  "cells": [
    {
      "cell_type": "markdown",
      "metadata": {
        "id": "view-in-github",
        "colab_type": "text"
      },
      "source": [
        "<a href=\"https://colab.research.google.com/github/Dre1896/Anagram/blob/master/DSCI_633_Assignment_02.ipynb\" target=\"_parent\"><img src=\"https://colab.research.google.com/assets/colab-badge.svg\" alt=\"Open In Colab\"/></a>"
      ]
    },
    {
      "cell_type": "markdown",
      "metadata": {
        "id": "IkU6xe1tGPbD"
      },
      "source": [
        "## Setup"
      ]
    },
    {
      "cell_type": "markdown",
      "metadata": {
        "id": "_eXQMtXarEAc"
      },
      "source": [
        "<table align=\"left\">\n",
        "  <td>\n",
        "    <a href=\"https://colab.research.google.com/drive/1yu5U0X0LNqQ6sQyFcPMlWnVj2D6eWV7m?usp=sharing\" target=\"_parent\"><img src=\"https://colab.research.google.com/assets/colab-badge.svg\" alt=\"Open In Colab\"/></a>\n",
        "  </td>\n",
        "</table>"
      ]
    },
    {
      "cell_type": "code",
      "metadata": {
        "id": "mqQqkxgr5n_v"
      },
      "source": [
        "# Python ≥3.5 is required\n",
        "import sys"
      ],
      "execution_count": 7,
      "outputs": []
    },
    {
      "cell_type": "code",
      "metadata": {
        "id": "bPKvF1zC5zQA"
      },
      "source": [
        "# Scikit-Learn ≥0.20 is required\n",
        "import sklearn"
      ],
      "execution_count": 8,
      "outputs": []
    },
    {
      "cell_type": "markdown",
      "metadata": {
        "id": "G5fn-zskGUFs"
      },
      "source": [
        "## Get the Data"
      ]
    },
    {
      "cell_type": "markdown",
      "metadata": {
        "id": "54owZYZq79Vi"
      },
      "source": [
        "The function below merges the OECD's life satisfaction data and the IMF's GDP per capita data. We have discussed this example in class."
      ]
    },
    {
      "cell_type": "code",
      "metadata": {
        "id": "foUcANFq7-bp"
      },
      "source": [
        "def prepare_country_stats(oecd_bli, gdp_per_capita):\n",
        "    oecd_bli = oecd_bli[oecd_bli[\"INEQUALITY\"]==\"TOT\"]\n",
        "    oecd_bli = oecd_bli.pivot(index=\"Country\", columns=\"Indicator\", values=\"Value\")\n",
        "    gdp_per_capita.rename(columns={\"2015\": \"GDP per capita\"}, inplace=True)\n",
        "    gdp_per_capita.set_index(\"Country\", inplace=True)\n",
        "    full_country_stats = pd.merge(left=oecd_bli, right=gdp_per_capita,\n",
        "                                  left_index=True, right_index=True)\n",
        "    full_country_stats.sort_values(by=\"GDP per capita\", inplace=True)\n",
        "    remove_indices = [0, 1, 6, 8, 33, 34, 35]\n",
        "    keep_indices = list(set(range(36)) - set(remove_indices))\n",
        "    return full_country_stats[[\"GDP per capita\", 'Life satisfaction']].iloc[keep_indices]"
      ],
      "execution_count": 9,
      "outputs": []
    },
    {
      "cell_type": "markdown",
      "metadata": {
        "id": "tx6YGkTr8iOc"
      },
      "source": [
        "Fetch the files in datasets/lifesat"
      ]
    },
    {
      "cell_type": "code",
      "metadata": {
        "id": "XjJat6hq8h3t"
      },
      "source": [
        "import os\n",
        "datapath = os.path.join(\"datasets\", \"lifesat\", \"\")"
      ],
      "execution_count": 4,
      "outputs": []
    },
    {
      "cell_type": "markdown",
      "metadata": {
        "id": "bWfqsGGM8xml"
      },
      "source": [
        "[Uncomment the code] Code below plots pretty figures directly within Jupyter\n"
      ]
    },
    {
      "cell_type": "code",
      "metadata": {
        "id": "xEJrVB5I8hw3"
      },
      "source": [
        "import matplotlib as mpl\n",
        "mpl.rc('axes', labelsize=14)\n",
        "mpl.rc('xtick', labelsize=12)\n",
        "mpl.rc('ytick', labelsize=12)"
      ],
      "execution_count": 12,
      "outputs": []
    },
    {
      "cell_type": "markdown",
      "metadata": {
        "id": "a03xTpv29H8k"
      },
      "source": [
        "Download the data"
      ]
    },
    {
      "cell_type": "code",
      "metadata": {
        "colab": {
          "base_uri": "https://localhost:8080/"
        },
        "id": "aUr21Od69ETV",
        "outputId": "507b62fb-d55d-43ae-c86e-e7d1f5e711e4"
      },
      "source": [
        "import urllib.request\n",
        "DOWNLOAD_ROOT = \"https://raw.githubusercontent.com/ageron/handson-ml2/master/\"\n",
        "os.makedirs(datapath, exist_ok=True)\n",
        "for filename in (\"oecd_bli_2015.csv\", \"gdp_per_capita.csv\"):\n",
        "    print(\"Downloading\", filename)\n",
        "    url = DOWNLOAD_ROOT + \"datasets/lifesat/\" + filename\n",
        "    urllib.request.urlretrieve(url, datapath + filename)"
      ],
      "execution_count": 6,
      "outputs": [
        {
          "output_type": "stream",
          "name": "stdout",
          "text": [
            "Downloading oecd_bli_2015.csv\n",
            "Downloading gdp_per_capita.csv\n"
          ]
        }
      ]
    },
    {
      "cell_type": "markdown",
      "metadata": {
        "id": "N2mnRqnw9PwQ"
      },
      "source": [
        "# Fill in the missing code\n"
      ]
    },
    {
      "cell_type": "code",
      "metadata": {
        "colab": {
          "base_uri": "https://localhost:8080/",
          "height": 320
        },
        "id": "M4MQ9Kny9a6y",
        "outputId": "7bdb3c1b-c0e5-4294-ee21-a70fce0d53fc"
      },
      "source": [
        "import matplotlib.pyplot as plt\n",
        "import numpy as np\n",
        "import pandas as pd\n",
        "import sklearn.linear_model as lm\n",
        "\n",
        "# Load the data\n",
        "oecd_bli = pd.read_csv(datapath + \"oecd_bli_2015.csv\", thousands=',')\n",
        "gdp_per_capita = pd.read_csv(datapath + \"gdp_per_capita.csv\",thousands=',',delimiter='\\t',\n",
        "                             encoding='latin1', na_values=\"n/a\")\n",
        "\n",
        "# Prepare the data\n",
        "country_stats = prepare_country_stats(oecd_bli, gdp_per_capita)\n",
        "X = country_stats['GDP per capita'].values.reshape(-1, 1)\n",
        "y = country_stats['Life satisfaction'].values.reshape(-1, 1)\n",
        "\n",
        "\n",
        "# X = np.c_(country_stats['GDP per capita'])\n",
        "# y = np.c_(country_stats['Life satisfaction'])\n",
        "\n",
        "# Visualize the data\n",
        "plt.plot(X, y)\n",
        "plt.title(\"GDP vs LS\")\n",
        "plt.xlabel(\"GDP\")\n",
        "plt.ylabel(\"LS\")\n",
        "plt.show()\n",
        "\n",
        "# Select a linear model\n",
        "reg = lm.LinearRegression()\n",
        "reg.fit(X, y)\n",
        "\n",
        "# Train the model\n",
        "\n",
        "# Make a prediction for Cyprus\n",
        "# inserted a random value\n",
        "X_new = {\n",
        "    \"GDP for Cyprus\": [22587.000]\n",
        "}\n",
        "\n",
        "df = pd.DataFrame(data = X_new)\n",
        "df\n",
        "\n",
        "## find the Cyprus value on the internet\n",
        "\n",
        "print(reg.predict(df)) \n",
        "\n",
        "# outputs [[ 5.96242338]]"
      ],
      "execution_count": 44,
      "outputs": [
        {
          "output_type": "display_data",
          "data": {
            "image/png": "[encoded data removed]",
            "text/plain": [
              "<Figure size 432x288 with 1 Axes>"
            ]
          },
          "metadata": {
            "needs_background": "light"
          }
        },
        {
          "output_type": "stream",
          "name": "stdout",
          "text": [
            "[[5.96242338]]\n"
          ]
        }
      ]
    },
    {
      "cell_type": "markdown",
      "metadata": {
        "id": "ob4gZOMP94-Q"
      },
      "source": [
        "[Update] Replace the Linear Regression model with k-Nearest Neighbors (in this example, k = 3)"
      ]
    },
    {
      "cell_type": "code",
      "metadata": {
        "id": "bKwvfUz49g1P",
        "colab": {
          "base_uri": "https://localhost:8080/"
        },
        "outputId": "0220a00b-f708-41df-d69f-8c4bc400b86e"
      },
      "source": [
        "# Select a 3-Nearest Neighbors regression model\n",
        "from sklearn.neighbors import KNeighborsRegressor\n",
        "# model1 =\n",
        "neigh = KNeighborsRegressor(n_neighbors=3)\n",
        "neigh.fit(X, y)\n",
        "\n",
        "print(neigh.predict(df))"
      ],
      "execution_count": 78,
      "outputs": [
        {
          "output_type": "stream",
          "name": "stdout",
          "text": [
            "[[5.76666667]]\n"
          ]
        }
      ]
    },
    {
      "cell_type": "markdown",
      "metadata": {
        "id": "eBecKtMyGfCT"
      },
      "source": [
        "## DONE"
      ]
    },
    {
      "cell_type": "code",
      "metadata": {
        "id": "k4zw84KXGgMy"
      },
      "source": [
        ""
      ],
      "execution_count": null,
      "outputs": []
    }
  ]
}